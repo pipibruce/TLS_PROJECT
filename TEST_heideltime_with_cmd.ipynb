{
 "cells": [
  {
   "cell_type": "code",
   "execution_count": 4,
   "id": "66c6f188",
   "metadata": {},
   "outputs": [
    {
     "name": "stdout",
     "output_type": "stream",
     "text": [
      "java -jar C:/Users/25031/anaconda3/Lib/site-packages/py_heideltime/Heideltime/de.unihd.dbs.heideltime.standalone.jar -dct 2023-07-07 -t news -l Portuguese C:/Users/25031/Desktop/新建文件夹/dataset_pt2/_PUBLICO/25_de_abril_publico/doc/0.txt\n",
      "<?xml version=\"1.0\"?>\n",
      "<!DOCTYPE TimeML SYSTEM \"TimeML.dtd\">\n",
      "<TimeML>\n",
      "A edição deste ano do Estoril Open foi cancelada . \n",
      "A decisão surge na sequência do anúncio por parte da ATP de prolongar a suspensão do circuito até <TIMEX3 tid=\"t6\" type=\"DATE\" value=\"2023-06-07\">7 de Junho</TIMEX3> , abrangendo assim o Estoril Open que estava previsto decorrer entre <TIMEX3 tid=\"t7\" type=\"DATE\" value=\"2023-04-25\">25 de Abril</TIMEX3> e <TIMEX3 tid=\"t8\" type=\"DATE\" value=\"2023-05-03\">3 de Maio</TIMEX3> . \n",
      "João Zilhão , director do torneio já comentou a decisão : \" É a única possível que o ATP podia tomar nesta fase . \n",
      "É com muita pena que vemos o Millennium Estoril Open e toda a época de terra batida de <TIMEX3 tid=\"t1\" type=\"DATE\" value=\"2020\">2020</TIMEX3> suspensa , uma vez que estávamos já em pleno período de montagens . \n",
      "Nas circunstâncias em que vivemos , não é possível garantir uma experiência segura aos que nos visitam no final de <TIMEX3 tid=\"t5\" type=\"DATE\" value=\"2023-04\">Abril</TIMEX3> . \n",
      "Sem essa garantia não faz qualquer sentido para nós ponderar sequer a realização do Millennium Estoril Open ” . \n",
      "Saiba mais aqui \n",
      "\n",
      "</TimeML>\n",
      "\n",
      "\n"
     ]
    }
   ],
   "source": [
    "import subprocess\n",
    "path = \"C:/Users/25031/anaconda3/Lib/site-packages/py_heideltime/Heideltime/de.unihd.dbs.heideltime.standalone.jar\"\n",
    "document_type = \"news\"\n",
    "language = \"Portuguese\"\n",
    "dct = \"2023-07-07\"\n",
    "file = \"C:/Users/25031/Desktop/新建文件夹/dataset_pt2/_PUBLICO/25_de_abril_publico/doc/0.txt\"\n",
    "java_command = 'java -jar ' + path + ' -dct ' + dct + ' -t ' + document_type + ' -l ' + language + \" \" + file\n",
    "print(java_command)\n",
    "myCmd = subprocess.run(java_command, stdout=subprocess.PIPE, stderr=subprocess.PIPE).stdout.decode(\"utf-8\")\n",
    "print(myCmd)\n",
    "\n"
   ]
  },
  {
   "cell_type": "code",
   "execution_count": 28,
   "id": "51c410d2",
   "metadata": {},
   "outputs": [
    {
     "name": "stdout",
     "output_type": "stream",
     "text": [
      "O presidente da Cruz Vermelha da Bielorrússia disse à televisão estatal daquele país que a organização tem estado envolvida na transferência de crianças ucranianas, prática que a justiça internacional equipara a um crime contra a humanidade. Dzmitry Shautsou disse que \"a Cruz Vermelha bielorrussa esteve e continuará a estar envolvida nisso\", acrescentando que as crianças são transferidas para a Bielorrússia por motivos de saúde, avança a Sky News. A Ucrânia e a oposição bielorrussa já denunciaram a situação. O ministro dos Negócios Estrangeiros ucraniano, Dmytro Kuleba, disse que o presidente da organização \"confessou publicamente\" um crime e, como tal, o Tribunal Penal Internacional deveria emitir um mandado de prisão.\n",
      "ListOfTagContents :  ['2023-07-07']\n",
      "\n",
      "\n",
      " []\n"
     ]
    }
   ],
   "source": [
    "import re\n",
    "normalized_dates_list = []\n",
    "\n",
    "timeML_text = str(myCmd).split('<TimeML>')[1].split(\"</TimeML>\")[0].lstrip(\"\\n\").rstrip(\"\\n\")\n",
    "print(timeML_text)\n",
    "ListOfTagContents = re.findall(\"<TIMEX3(.*?)</TIMEX3>\", str(myCmd))\n",
    "\n",
    "if ListOfTagContents == [] :\n",
    "    ListOfTagContents = [dct]\n",
    "\n",
    "else :\n",
    "    for i in range(len(ListOfTagContents)):\n",
    "        # normalized date\n",
    "        normalized_dates = re.findall('value=\"(.*?)\"', ListOfTagContents[i], re.IGNORECASE)\n",
    "        # insert in list the date value and the expression that originate the date\n",
    "        normalized_dates_list.append(normalized_dates[0])\n",
    "\n",
    "print(\"ListOfTagContents : \", ListOfTagContents)        \n",
    "print(\"\\n\\n\", normalized_dates_list)      "
   ]
  },
  {
   "cell_type": "code",
   "execution_count": 21,
   "id": "a37d0bc9",
   "metadata": {},
   "outputs": [
    {
     "name": "stdout",
     "output_type": "stream",
     "text": [
      "[]\n",
      "['dct']\n"
     ]
    }
   ],
   "source": [
    "a = \"dct\"\n",
    "abc = []\n",
    "print(abc)\n",
    "abc.append(a)\n",
    "print(abc)"
   ]
  }
 ],
 "metadata": {
  "kernelspec": {
   "display_name": "Python 3 (ipykernel)",
   "language": "python",
   "name": "python3"
  },
  "language_info": {
   "codemirror_mode": {
    "name": "ipython",
    "version": 3
   },
   "file_extension": ".py",
   "mimetype": "text/x-python",
   "name": "python",
   "nbconvert_exporter": "python",
   "pygments_lexer": "ipython3",
   "version": "3.11.3"
  }
 },
 "nbformat": 4,
 "nbformat_minor": 5
}
